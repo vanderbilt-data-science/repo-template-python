{
 "cells": [
  {
   "cell_type": "markdown",
   "metadata": {},
   "source": [
    "# 30-feature-engineering: Create new features\n",
    "The purpose of this notebook is feature engineering.  We can continue to use the current features or generate new features based upon them.  The data should also be tested here to ensure that the features generated meet expectations and assumptions about it.\n",
    "\n",
    "**A note on variable encodings**\n",
    "- **scikit-learn**: If using scikit-learn, it's inadvisable to explicitly create a new dataset with your one hot or binary-encoded features.  This is because it is better to include them as a section of the larger pipeline which will include the prediction strategy and perhaps modeling.\n",
    "- **h2o**: If using h2o, it is not *strictly* necessary to explicitly define the encodings.  H2o is able to do this [under the hood](http://docs.h2o.ai/h2o/latest-stable/h2o-docs/data-science/algo-params/categorical_encoding.html) for most of its algorithms in an optimized way."
   ]
  },
  {
   "cell_type": "markdown",
   "metadata": {},
   "source": [
    "#### Helpful packages and preliminaries"
   ]
  },
  {
   "cell_type": "code",
   "execution_count": null,
   "metadata": {},
   "outputs": [],
   "source": [
    "#Data analysis and processing\n",
    "import pandas as pd\n",
    "import numpy as np\n",
    "\n",
    "#Assertions and testing\n",
    "import great_expectations as ge"
   ]
  },
  {
   "cell_type": "code",
   "execution_count": null,
   "metadata": {},
   "outputs": [],
   "source": [
    "#Constants/globals\n",
    "cleaned_data_filename = ''\n",
    "full_feature_filename = ''"
   ]
  },
  {
   "cell_type": "markdown",
   "metadata": {},
   "source": [
    "## Feature investigation and creation"
   ]
  },
  {
   "cell_type": "code",
   "execution_count": null,
   "metadata": {},
   "outputs": [],
   "source": [
    "#Read in data and view\n",
    "data = pd.read_csv(cleaned_data_filename)\n",
    "data.head()"
   ]
  },
  {
   "cell_type": "code",
   "execution_count": null,
   "metadata": {},
   "outputs": [],
   "source": [
    "#When done, write out values\n",
    "data.to_csv(full_feature_filename)"
   ]
  }
 ],
 "metadata": {
  "kernelspec": {
   "display_name": "Python 3",
   "language": "python",
   "name": "python3"
  },
  "language_info": {
   "codemirror_mode": {
    "name": "ipython",
    "version": 3
   },
   "file_extension": ".py",
   "mimetype": "text/x-python",
   "name": "python",
   "nbconvert_exporter": "python",
   "pygments_lexer": "ipython3",
   "version": "3.7.1"
  }
 },
 "nbformat": 4,
 "nbformat_minor": 2
}
