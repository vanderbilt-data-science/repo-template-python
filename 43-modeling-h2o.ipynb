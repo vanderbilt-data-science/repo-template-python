{
 "cells": [
  {
   "cell_type": "markdown",
   "metadata": {},
   "source": [
    "# 43-modeling-h2o: Building and evaluating model performance\n",
    "The purpose of this notebook is to build more advanced models, for example, using AutoML from h2o and then evalulate their performance.  For convenience, the results may be reported in this notebook."
   ]
  },
  {
   "cell_type": "markdown",
   "metadata": {},
   "source": [
    "#### Helpful packages and preliminaries"
   ]
  },
  {
   "cell_type": "code",
   "execution_count": null,
   "metadata": {},
   "outputs": [],
   "source": [
    "#data access and analysis\n",
    "import pandas as pd\n",
    "import numpy as np\n",
    "\n",
    "#modeling preprocessing\n",
    "from h2o import \n",
    "\n",
    "#plotting\n",
    "import matplotlib.pyplot as plt\n",
    "import seaborn as sns"
   ]
  },
  {
   "cell_type": "code",
   "execution_count": null,
   "metadata": {},
   "outputs": [],
   "source": [
    "# Constants/globals\n",
    "full_features_filename_train = ''\n",
    "full_features_filename_test = ''\n",
    "\n",
    "training_ratio = 0.7\n",
    "max_models = None\n",
    "repro_seed = 1234\n",
    "max_runtime_mins = 5"
   ]
  },
  {
   "cell_type": "markdown",
   "metadata": {},
   "source": [
    "## Model using AutoML"
   ]
  },
  {
   "cell_type": "code",
   "execution_count": null,
   "metadata": {},
   "outputs": [],
   "source": [
    "#init h2o\n",
    "h2o.init()"
   ]
  },
  {
   "cell_type": "code",
   "execution_count": null,
   "metadata": {},
   "outputs": [],
   "source": [
    "#import data and inspect\n",
    "data = h2o.import_file(full_features_filename_train)\n",
    "test_data = h2o.import_file(full_features_filename_test)"
   ]
  },
  {
   "cell_type": "code",
   "execution_count": null,
   "metadata": {},
   "outputs": [],
   "source": [
    "#set columns as factors if necessary\n",
    "data['col'] = data['col'].as_factor()"
   ]
  },
  {
   "cell_type": "code",
   "execution_count": null,
   "metadata": {},
   "outputs": [],
   "source": [
    "#split data into desired portions and identify variables of interest\n",
    "data_train, data_val = data.split_frame(ratios=(training_ratio), seed=repro_seed)\n",
    "\n",
    "predictors = ['col1', 'col2']\n",
    "response = 'coly'"
   ]
  },
  {
   "cell_type": "code",
   "execution_count": null,
   "metadata": {},
   "outputs": [],
   "source": [
    "#identify model and train\n",
    "mls = H2OAutoML(max_models=max_models, max_runtime_secs = 60* max_runtime_mins, seed=repro_seed)\n",
    "mls.train(x=predictors, y=response)"
   ]
  },
  {
   "cell_type": "code",
   "execution_count": null,
   "metadata": {},
   "outputs": [],
   "source": [
    "#View leaderboard\n",
    "mls.leaderboard"
   ]
  },
  {
   "cell_type": "markdown",
   "metadata": {},
   "source": [
    "## Performance evaluation"
   ]
  },
  {
   "cell_type": "code",
   "execution_count": null,
   "metadata": {},
   "outputs": [],
   "source": [
    "#See full performance of model on original training data\n",
    "mls.leader.model_performance(train_data)"
   ]
  },
  {
   "cell_type": "code",
   "execution_count": null,
   "metadata": {},
   "outputs": [],
   "source": [
    "#Predict outputs using leader (usage of the leader done automatically)\n",
    "res = mls.predict(test_data)"
   ]
  },
  {
   "cell_type": "code",
   "execution_count": null,
   "metadata": {},
   "outputs": [],
   "source": [
    "#See full performance of model\n",
    "mls.leader.model_performance(test_data)"
   ]
  },
  {
   "cell_type": "code",
   "execution_count": null,
   "metadata": {},
   "outputs": [],
   "source": [
    "#Save model"
   ]
  }
 ],
 "metadata": {
  "kernelspec": {
   "display_name": "Python 3",
   "language": "python",
   "name": "python3"
  },
  "language_info": {
   "codemirror_mode": {
    "name": "ipython",
    "version": 3
   },
   "file_extension": ".py",
   "mimetype": "text/x-python",
   "name": "python",
   "nbconvert_exporter": "python",
   "pygments_lexer": "ipython3",
   "version": "3.7.1"
  }
 },
 "nbformat": 4,
 "nbformat_minor": 2
}
